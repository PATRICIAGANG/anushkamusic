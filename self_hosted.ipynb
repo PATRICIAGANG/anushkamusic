{
  "nbformat": 4,
  "nbformat_minor": 0,
  "metadata": {
    "accelerator": "TPU",
    "colab": {
      "name": "self_hosted.ipynb",
      "provenance": [],
      "authorship_tag": "ABX9TyOSmiPaZKnpyKWuQ/usDaYw"
    },
    "kernelspec": {
      "display_name": "Python 3",
      "name": "python3"
    },
    "language_info": {
      "name": "python"
    }
  },
  "cells": [
    {
      "cell_type": "markdown",
      "metadata": {
        "id": "aDNZDTuKmhIx"
      },
      "source": [
        "# VC bot"
      ]
    },
    {
      "cell_type": "code",
      "metadata": {
        "id": "yjRUsznsnEhc"
      },
      "source": [
        "!sudo apt install --upgrade python3.8 python3-pip\n",
        "!sudo apt install python3.8-distutils"
      ],
      "execution_count": null,
      "outputs": []
    },
    {
      "cell_type": "code",
      "metadata": {
        "id": "jpEVetVzlmgo"
      },
      "source": [
        "!git clone https://github.com/animeshxd/vcbot"
      ],
      "execution_count": null,
      "outputs": []
    },
    {
      "cell_type": "code",
      "metadata": {
        "id": "gTHmYwPCngev"
      },
      "source": [
        "!cd vcbot && git pull"
      ],
      "execution_count": null,
      "outputs": []
    },
    {
      "cell_type": "code",
      "metadata": {
        "id": "374EIW9Ol0az"
      },
      "source": [
        "%%writefile /content/vcbot/vcbot/config.py\n",
        "class Config:\n",
        "    API_ID: int = Your Api ID \n",
        "    API_HASH: str = Your Api Hash\n",
        "    STRING: str = Your Telethon Session String\n",
        "    BOT_TOKEN: str = Your Bot Token\n",
        "    ADMINS: list = List of Allowed User int"
      ],
      "execution_count": null,
      "outputs": []
    },
    {
      "cell_type": "code",
      "metadata": {
        "id": "ZxkP7pVQmbNv"
      },
      "source": [
        "!python3.8 -m pip install --upgrade pip\n",
        "!python3.8 -m pip install --upgrade pyaes\n",
        "!python3.8 -m pip install --upgrade -r /content/vcbot/requirements.txt"
      ],
      "execution_count": null,
      "outputs": []
    },
    {
      "cell_type": "code",
      "metadata": {
        "id": "5eMNLkEImAry"
      },
      "source": [
        "!cd vcbot/ && python3.8 -m vcbot"
      ],
      "execution_count": null,
      "outputs": []
    }
  ]
}