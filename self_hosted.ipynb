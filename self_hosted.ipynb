{
  "nbformat": 4,
  "nbformat_minor": 2,
  "metadata": {
    "accelerator": "TPU",
    "colab": {
      "name": "self_hosted.ipynb",
      "provenance": [],
      "authorship_tag": "ABX9TyOSmiPaZKnpyKWuQ/usDaYw"
    },
    "kernelspec": {
      "display_name": "Python 3",
      "name": "python3"
    },
    "language_info": {
      "name": "python"
    }
  },
  "cells": [
    {
      "cell_type": "markdown",
      "source": [
        "# Run Bot"
      ],
      "metadata": {
        "id": "aDNZDTuKmhIx"
      }
    },
    {
      "cell_type": "code",
      "execution_count": null,
      "source": [
        "!sudo apt install --upgrade python3.8 python3-pip\n",
        "!sudo apt install python3.8-distutils"
      ],
      "outputs": [],
      "metadata": {
        "id": "yjRUsznsnEhc"
      }
    },
    {
      "cell_type": "code",
      "execution_count": null,
      "source": [
        "!git clone https://github.com/animeshxd/vcbot"
      ],
      "outputs": [],
      "metadata": {
        "id": "jpEVetVzlmgo"
      }
    },
    {
      "cell_type": "code",
      "execution_count": null,
      "source": [
        "!cd vcbot && git pull"
      ],
      "outputs": [],
      "metadata": {
        "id": "gTHmYwPCngev"
      }
    },
    {
      "cell_type": "code",
      "execution_count": null,
      "source": [
        "%%writefile /content/vcbot/vcbot/config.py\r\n",
        "class Config:\r\n",
        "    API_ID: int = Your Api ID \r\n",
        "    API_HASH: str = Your Api Hash\r\n",
        "    STRING: str = Your Telethon Session String\r\n",
        "    BOT_TOKEN: str = Your Bot Token\r\n",
        "    ADMINS: list = List of Allowed User int"
      ],
      "outputs": [],
      "metadata": {
        "id": "374EIW9Ol0az"
      }
    },
    {
      "cell_type": "code",
      "execution_count": null,
      "source": [
        "!python3.8 -m pip install --upgrade pip\r\n",
        "!python3.8 -m pip install --upgrade pyaes\r\n",
        "!python3.8 -m pip install --upgrade -r /content/vcbot/requirements.txt"
      ],
      "outputs": [],
      "metadata": {
        "id": "ZxkP7pVQmbNv"
      }
    },
    {
      "cell_type": "code",
      "execution_count": null,
      "source": [
        "!cd vcbot/ && python3.8 -m vcbot"
      ],
      "outputs": [],
      "metadata": {
        "id": "5eMNLkEImAry"
      }
    }
  ]
}